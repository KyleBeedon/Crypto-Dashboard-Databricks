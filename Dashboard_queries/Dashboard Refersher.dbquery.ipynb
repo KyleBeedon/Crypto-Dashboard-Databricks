{
 "cells": [
  {
   "cell_type": "code",
   "execution_count": 0,
   "metadata": {
    "application/vnd.databricks.v1+cell": {
     "cellMetadata": {
      "byteLimit": 10485760,
      "rowLimit": 1000
     },
     "inputWidgets": {},
     "nuid": "a0ef8ab6-a9f2-407d-9c06-9b04d35957a2",
     "showTitle": false,
     "tableResultSettingsMap": {},
     "title": ""
    }
   },
   "outputs": [],
   "source": [
    "-- Latest BTC price\n",
    "CREATE OR REPLACE TABLE latest_btc_price AS\n",
    "SELECT current_price\n",
    "FROM crypto_lag_features\n",
    "WHERE symbol = 'B BTC-USD'\n",
    "ORDER BY scrape_date DESC\n",
    "LIMIT 1;\n",
    "\n",
    "-- Latest ETH price\n",
    "CREATE OR REPLACE TABLE latest_eth_price AS\n",
    "SELECT current_price\n",
    "FROM crypto_lag_features\n",
    "WHERE symbol = 'E ETH-USD'\n",
    "ORDER BY scrape_date DESC\n",
    "LIMIT 1;\n",
    "\n",
    "-- Latest SOL price\n",
    "CREATE OR REPLACE TABLE latest_sol_price AS\n",
    "SELECT current_price\n",
    "FROM crypto_lag_features\n",
    "WHERE symbol = 'S SOL-USD'\n",
    "ORDER BY scrape_date DESC\n",
    "LIMIT 1;\n",
    "\n",
    "-- BTC % change\n",
    "CREATE OR REPLACE TABLE pct_change_1d_btc AS\n",
    "SELECT pct_change_1d\n",
    "FROM crypto_lag_features\n",
    "WHERE symbol = 'B BTC-USD'\n",
    "ORDER BY scrape_date DESC\n",
    "LIMIT 1;\n",
    "\n",
    "-- Average volatility\n",
    "CREATE OR REPLACE TABLE avg_volatility AS\n",
    "SELECT AVG(volatility_pct) AS avg_volatility\n",
    "FROM crypto_lag_features\n",
    "WHERE scrape_date >= date_sub(current_date(), 1);\n",
    "\n",
    "-- Price trend line\n",
    "CREATE OR REPLACE TABLE price_trend_line AS\n",
    "SELECT scrape_date, symbol, price\n",
    "FROM historical_crypto_trends\n",
    "WHERE symbol IN ('B BTC-USD', 'E ETH-USD', 'S SOL-USD')\n",
    "ORDER BY scrape_date;\n",
    "\n",
    "\n"
   ]
  }
 ],
 "metadata": {
  "application/vnd.databricks.v1+notebook": {
   "computePreferences": null,
   "dashboards": [],
   "environmentMetadata": null,
   "inputWidgetPreferences": null,
   "language": "sql",
   "notebookMetadata": {
    "pythonIndentUnit": 4,
    "sqlQueryOptions": {
     "applyAutoLimit": true,
     "catalog": "workspace",
     "schema": "default"
    }
   },
   "notebookName": "Dashboard Refersher.dbquery.ipynb",
   "widgets": {}
  },
  "language_info": {
   "name": "sql"
  }
 },
 "nbformat": 4,
 "nbformat_minor": 0
}
