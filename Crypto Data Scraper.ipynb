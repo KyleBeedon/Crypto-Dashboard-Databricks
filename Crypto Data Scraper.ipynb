{
 "cells": [
  {
   "cell_type": "code",
   "execution_count": 0,
   "metadata": {
    "application/vnd.databricks.v1+cell": {
     "cellMetadata": {
      "byteLimit": 2048000,
      "rowLimit": 10000
     },
     "inputWidgets": {},
     "nuid": "eb49685b-35a6-4005-963e-7dd4e2f819ec",
     "showTitle": false,
     "tableResultSettingsMap": {},
     "title": ""
    }
   },
   "outputs": [],
   "source": [
    "# Link to limitations:\n",
    "# https://docs.databricks.com/aws/en/getting-started/free-edition-limitations\n",
    "import pandas as pd\n",
    "import requests\n",
    "import time\n",
    "%pip install lxml\n",
    "%pip install requests"
   ]
  },
  {
   "cell_type": "code",
   "execution_count": 0,
   "metadata": {
    "application/vnd.databricks.v1+cell": {
     "cellMetadata": {
      "byteLimit": 2048000,
      "rowLimit": 10000
     },
     "inputWidgets": {},
     "nuid": "0ddef872-399e-4319-8033-2813f53fbd10",
     "showTitle": false,
     "tableResultSettingsMap": {},
     "title": ""
    }
   },
   "outputs": [],
   "source": [
    "def scrape_data(start):\n",
    "    url = \"https://finance.yahoo.com/markets/crypto/most-active/?start={start}&count=100\"\n",
    "    headers = {\n",
    "        \"User-Agent\": \"Mozilla/5.0 (Macintosh; Intel Mac OS X 10_15_7) \"\n",
    "                    \"AppleWebKit/537.36 (KHTML, like Gecko) \"\n",
    "                    \"Chrome/118.0.0.0 Safari/537.36\"\n",
    "    }\n",
    "\n",
    "    response = requests.get(url, headers=headers)\n",
    "    response.raise_for_status()  # raises if blocked\n",
    "\n",
    "    dfs = pd.read_html(response.text)\n",
    "    crypto_table = dfs[0]\n",
    "    #print(f\"Scraping: {start}-{start + 99}\")\n",
    "    return crypto_table\n"
   ]
  },
  {
   "cell_type": "code",
   "execution_count": 0,
   "metadata": {
    "application/vnd.databricks.v1+cell": {
     "cellMetadata": {
      "byteLimit": 2048000,
      "rowLimit": 10000
     },
     "inputWidgets": {},
     "nuid": "cd201ba9-968a-4695-aa2f-9a70636d0ae7",
     "showTitle": false,
     "tableResultSettingsMap": {},
     "title": ""
    }
   },
   "outputs": [],
   "source": [
    "crypto_table = pd.DataFrame()"
   ]
  },
  {
   "cell_type": "code",
   "execution_count": 0,
   "metadata": {
    "application/vnd.databricks.v1+cell": {
     "cellMetadata": {
      "byteLimit": 2048000,
      "rowLimit": 10000
     },
     "inputWidgets": {},
     "nuid": "fc0b5ef8-a2f1-42dd-bba6-9e5bc8baca3d",
     "showTitle": false,
     "tableResultSettingsMap": {},
     "title": ""
    }
   },
   "outputs": [],
   "source": [
    "# Scrapes the 25 most active cryptos at this moment\n",
    "temp = scrape_data(0)\n",
    "crypto_table = pd.concat([crypto_table, temp])"
   ]
  },
  {
   "cell_type": "code",
   "execution_count": 0,
   "metadata": {
    "application/vnd.databricks.v1+cell": {
     "cellMetadata": {
      "byteLimit": 2048000,
      "rowLimit": 10000
     },
     "inputWidgets": {},
     "nuid": "349c5c27-26fa-48a9-b892-cca5e7e189a8",
     "showTitle": false,
     "tableResultSettingsMap": {},
     "title": ""
    }
   },
   "outputs": [],
   "source": [
    "crypto_table = crypto_table.drop(\"Unnamed: 2\", axis=1)\n",
    "crypto_table = crypto_table.dropna(subset=['Name'])"
   ]
  },
  {
   "cell_type": "code",
   "execution_count": 0,
   "metadata": {
    "application/vnd.databricks.v1+cell": {
     "cellMetadata": {
      "byteLimit": 2048000,
      "rowLimit": 10000
     },
     "inputWidgets": {},
     "nuid": "d2905084-4484-4f09-8bc6-0bddeffcb76b",
     "showTitle": false,
     "tableResultSettingsMap": {},
     "title": ""
    }
   },
   "outputs": [],
   "source": [
    "# Rename columns to be more readable\n",
    "crypto_table = crypto_table.rename(columns={\n",
    "    'Change %': 'Change_Percent',\n",
    "    'Market Cap': 'Market_Cap',\n",
    "    'Volume In Currency (24hr)': 'Volume_In_Currency_24hr',\n",
    "    'Total Volume All Currencies (24hr)': 'Total_Volume_All_Currencies_24hr',\n",
    "    'Circulating Supply': 'Circulating_Supply',\n",
    "    '52 Wk Change %': '52_Wk_Change_Percent',\n",
    "    '52 Wk Range': '52_Wk_Range'\n",
    "})"
   ]
  },
  {
   "cell_type": "code",
   "execution_count": 0,
   "metadata": {
    "application/vnd.databricks.v1+cell": {
     "cellMetadata": {
      "byteLimit": 2048000,
      "rowLimit": 10000
     },
     "inputWidgets": {},
     "nuid": "e2bd9d59-41af-4119-b7f1-aa0721c078ff",
     "showTitle": false,
     "tableResultSettingsMap": {},
     "title": ""
    }
   },
   "outputs": [],
   "source": [
    "# Clean the \"Change %\" column\n",
    "crypto_table[\"Change_Percent\"] = (\n",
    "    crypto_table[\"Change_Percent\"]\n",
    "    .astype(str)                           # ensure it's string type\n",
    "    .str.replace('%', '', regex=False)     # remove the % symbol\n",
    "    .str.replace('+', '', regex=False)     # remove + sign if any\n",
    "    .str.replace(',', '', regex=False)     # remove commas\n",
    "    .astype(float)                         # convert to float\n",
    ")"
   ]
  },
  {
   "cell_type": "code",
   "execution_count": 0,
   "metadata": {
    "application/vnd.databricks.v1+cell": {
     "cellMetadata": {
      "byteLimit": 2048000,
      "rowLimit": 10000
     },
     "inputWidgets": {},
     "nuid": "e3fb504c-d3bf-463b-83c0-8a53e348813c",
     "showTitle": false,
     "tableResultSettingsMap": {},
     "title": ""
    }
   },
   "outputs": [],
   "source": [
    "# Fix the price variable, split up the numbers, and save only the first element\n",
    "crypto_table[\"Price\"] = round(\n",
    "    crypto_table[\"Price\"]\n",
    "    .astype(str)\n",
    "    .str.split(\" \")          # split on space\n",
    "    .str[0]                  # take first element\n",
    "    .str.replace(\",\", \"\", regex=False)  # remove commas\n",
    "    .astype(float),\n",
    ")"
   ]
  },
  {
   "cell_type": "code",
   "execution_count": 0,
   "metadata": {
    "application/vnd.databricks.v1+cell": {
     "cellMetadata": {
      "byteLimit": 2048000,
      "rowLimit": 10000
     },
     "inputWidgets": {},
     "nuid": "0f81af78-e500-4998-a8bd-2916d2568de5",
     "showTitle": false,
     "tableResultSettingsMap": {},
     "title": ""
    }
   },
   "outputs": [],
   "source": [
    "from datetime import datetime\n",
    "from pyspark.sql import functions as F\n",
    "\n",
    "# Add scrape_data\n",
    "crypto_table[\"scrape_date\"] = datetime.now().strftime(\"%Y-%m-%d %H:%M:%S\")\n",
    "\n",
    "# Convert to Spark DataFrame\n",
    "spark_df = spark.createDataFrame(crypto_table)\n",
    "\n",
    "# Persist as a Delta table (append mode)\n",
    "spark_df.write.format(\"delta\").mode(\"append\").saveAsTable(\"historical_crypto_trends\")"
   ]
  },
  {
   "cell_type": "code",
   "execution_count": 0,
   "metadata": {
    "application/vnd.databricks.v1+cell": {
     "cellMetadata": {},
     "inputWidgets": {},
     "nuid": "c09ebd75-fc21-4df7-a8f2-3bc7819a0239",
     "showTitle": false,
     "tableResultSettingsMap": {},
     "title": ""
    }
   },
   "outputs": [],
   "source": [
    "# including social media sentiment,\n",
    "## Scrape twitter trending page... Evaluate if there is ever a lot of activity regarding a coin\n",
    "### EX: Elon musk puts Bitcoin in his bio, bitcoin raises 20%"
   ]
  }
 ],
 "metadata": {
  "application/vnd.databricks.v1+notebook": {
   "computePreferences": null,
   "dashboards": [],
   "environmentMetadata": {
    "base_environment": "",
    "environment_version": "4"
   },
   "inputWidgetPreferences": null,
   "language": "python",
   "notebookMetadata": {
    "pythonIndentUnit": 4
   },
   "notebookName": "Crypto Data Scraper",
   "widgets": {}
  },
  "language_info": {
   "name": "python"
  }
 },
 "nbformat": 4,
 "nbformat_minor": 0
}
